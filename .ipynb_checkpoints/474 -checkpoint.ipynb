{
 "cells": [
  {
   "cell_type": "code",
   "execution_count": 49,
   "metadata": {},
   "outputs": [
    {
     "data": {
      "text/html": [
       "<script type=\"text/javascript\">window.PlotlyConfig = {MathJaxConfig: 'local'};</script><script type=\"text/javascript\">if (window.MathJax) {MathJax.Hub.Config({SVG: {font: \"STIX-Web\"}});}</script><script>requirejs.config({paths: { 'plotly': ['https://cdn.plot.ly/plotly-latest.min']},});if(!window._Plotly) {require(['plotly'],function(plotly) {window._Plotly=plotly;});}</script>"
      ],
      "text/vnd.plotly.v1+html": [
       "<script type=\"text/javascript\">window.PlotlyConfig = {MathJaxConfig: 'local'};</script><script type=\"text/javascript\">if (window.MathJax) {MathJax.Hub.Config({SVG: {font: \"STIX-Web\"}});}</script><script>requirejs.config({paths: { 'plotly': ['https://cdn.plot.ly/plotly-latest.min']},});if(!window._Plotly) {require(['plotly'],function(plotly) {window._Plotly=plotly;});}</script>"
      ]
     },
     "metadata": {},
     "output_type": "display_data"
    },
    {
     "data": {
      "text/html": [
       "<script type=\"text/javascript\">window.PlotlyConfig = {MathJaxConfig: 'local'};</script><script type=\"text/javascript\">if (window.MathJax) {MathJax.Hub.Config({SVG: {font: \"STIX-Web\"}});}</script><script>requirejs.config({paths: { 'plotly': ['https://cdn.plot.ly/plotly-latest.min']},});if(!window._Plotly) {require(['plotly'],function(plotly) {window._Plotly=plotly;});}</script>"
      ],
      "text/vnd.plotly.v1+html": [
       "<script type=\"text/javascript\">window.PlotlyConfig = {MathJaxConfig: 'local'};</script><script type=\"text/javascript\">if (window.MathJax) {MathJax.Hub.Config({SVG: {font: \"STIX-Web\"}});}</script><script>requirejs.config({paths: { 'plotly': ['https://cdn.plot.ly/plotly-latest.min']},});if(!window._Plotly) {require(['plotly'],function(plotly) {window._Plotly=plotly;});}</script>"
      ]
     },
     "metadata": {},
     "output_type": "display_data"
    }
   ],
   "source": [
    "import plotly\n",
    "import plotly.plotly as py\n",
    "import plotly.graph_objs as go\n",
    "import pandas as pd\n",
    "from plotly import tools\n",
    "from plotly.offline import iplot, init_notebook_mode\n",
    "\n",
    "import cufflinks\n",
    "cufflinks.go_offline(connected=True)\n",
    "init_notebook_mode(connected=True)\n",
    "plotly.tools.set_credentials_file(username='gebizar', api_key='HaSFtfJtxrPQdJMjAGgN')\n",
    "\n"
   ]
  },
  {
   "cell_type": "code",
   "execution_count": 65,
   "metadata": {},
   "outputs": [
    {
     "name": "stdout",
     "output_type": "stream",
     "text": [
      "['Bacteria', 'Penicilin', 'Streptomycin', 'Neomycin', 'Gram Staining']\n",
      "                      Bacteria  Penicilin  Streptomycin  Neomycin  \\\n",
      "2           Brucella anthracis      0.001          0.01     0.007   \n",
      "3       Diplococcus pneumoniae      0.005         11.00    10.000   \n",
      "11       Staphylococcus albus       0.007          0.10     0.001   \n",
      "12      Staphylococcus aureus       0.030          0.03     0.001   \n",
      "13      Streptococcus fecalis       1.000          1.00     0.100   \n",
      "14  Streptococcus hemolyticus       0.001         14.00    10.000   \n",
      "15      Streptococcus viridans      0.005         10.00    40.000   \n",
      "\n",
      "   Gram Staining  \n",
      "2       positive  \n",
      "3       positive  \n",
      "11      positive  \n",
      "12      positive  \n",
      "13      positive  \n",
      "14      positive  \n",
      "15      positive  \n"
     ]
    }
   ],
   "source": [
    "currCSV = pd.read_csv(\"antibiotics_data.csv\")\n",
    "arr = []\n",
    "for header in currCSV.columns.values:\n",
    "    arr.append(header.strip())\n",
    "\n",
    "print(arr)\n",
    "currCSV.columns = arr\n",
    "posCSV = currCSV.loc[currCSV[\"Gram Staining\"] == \"positive\"]\n",
    "negCSV = currCSV.loc[currCSV[\"Gram Staining\"] == \"negative\"]\n",
    "print(posCSV)\n"
   ]
  },
  {
   "cell_type": "code",
   "execution_count": 69,
   "metadata": {},
   "outputs": [
    {
     "name": "stdout",
     "output_type": "stream",
     "text": [
      "High five! You successfully sent some data to your account on plotly. View your plot in your browser at https://plot.ly/~gebizar/0 or inside your plot.ly account where it is named 'grouped-bar-direct-labels'\n"
     ]
    },
    {
     "data": {
      "text/html": [
       "<iframe id=\"igraph\" scrolling=\"no\" style=\"border:none;\" seamless=\"seamless\" src=\"https://plot.ly/~gebizar/0.embed\" height=\"525px\" width=\"100%\"></iframe>"
      ],
      "text/plain": [
       "<plotly.tools.PlotlyDisplay object>"
      ]
     },
     "execution_count": 69,
     "metadata": {},
     "output_type": "execute_result"
    }
   ],
   "source": [
    "trace1 = go.Bar(\n",
    "    x = posCSV[\"Bacteria\"],\n",
    "    y = posCSV[\"Penicilin\"],\n",
    "    name=\"Positive Gram Stain: Penicilin\",\n",
    "    marker=dict(\n",
    "        color='rgb(124, 252, 0)'\n",
    "    )\n",
    ")\n",
    "\n",
    "trace2 = go.Bar(\n",
    "    x = posCSV[\"Bacteria\"],\n",
    "    y = posCSV[\"Streptomycin\"],\n",
    "    name=\"Positive Gram Stain: Streptomycin\",\n",
    "    textposition = 'auto',\n",
    "    marker=dict(\n",
    "        color='rgb(34, 139, 34)'\n",
    "    )\n",
    ")\n",
    "\n",
    "trace3 = go.Bar(\n",
    "    x = posCSV[\"Bacteria\"],\n",
    "    y = posCSV[\"Neomycin\"],\n",
    "    name=\"Positive Gram Stain: Neomycin\",\n",
    "    textposition = 'auto',\n",
    "    marker=dict(\n",
    "        color='rgb(107, 142, 35)'\n",
    "    )\n",
    ")\n",
    "\n",
    "trace4 = go.Bar(\n",
    "    x = negCSV[\"Bacteria\"],\n",
    "    y = negCSV[\"Penicilin\"],\n",
    "    name=\"Negative Gram Stain: Penicilin\",\n",
    "    text = negCSV[\"Penicilin\"],\n",
    "    textposition = 'auto',\n",
    "    marker=dict(\n",
    "        color='rgb(220, 20, 60)'\n",
    "    )\n",
    ")\n",
    "\n",
    "trace5 = go.Bar(\n",
    "    x = negCSV[\"Bacteria\"],\n",
    "    y = negCSV[\"Streptomycin\"],\n",
    "    name=\"Negative Gram Stain: Streptomycin\",\n",
    "    text = negCSV[\"Streptomycin\"],\n",
    "    textposition = 'auto',\n",
    "    marker=dict(\n",
    "        color='rgb(178, 34, 34)'\n",
    "    )\n",
    ")\n",
    "\n",
    "trace6 = go.Bar(\n",
    "    x = negCSV[\"Bacteria\"],\n",
    "    y = negCSV[\"Neomycin\"],\n",
    "    name=\"Negative Gram Stain: Neomycin\",\n",
    "    text = negCSV[\"Neomycin\"],\n",
    "    textposition = 'auto',\n",
    "    marker=dict(\n",
    "        color='rgb(255, 0, 0)'\n",
    "    )\n",
    ")\n",
    "\n",
    "fig = tools.make_subplots(rows=1, cols =2, shared_yaxes = True)\n",
    "fig.append_trace(trace1, 1,1)\n",
    "fig.append_trace(trace2, 1,1)\n",
    "fig.append_trace(trace3, 1,1)\n",
    "fig.append_trace(trace4, 1,2)\n",
    "fig.append_trace(trace5, 1,2)\n",
    "fig.append_trace(trace6, 1,2)\n",
    "\n",
    "\n",
    "\n",
    "\n",
    "data = [trace1, trace2, trace3]\n",
    "layout = go.Layout(\n",
    "    title=go.layout.Title(\n",
    "    text=\"Antibiotics vs. Effectiveness\", xref=\"paper\",x=0\n",
    "    ),\n",
    "    yaxis=dict(type='log', autorange=True)\n",
    ")\n",
    "fig = go.Figure(data=data, layout=layout)\n",
    "\n",
    "py.iplot(fig, filename='grouped-bar-direct-labels')"
   ]
  },
  {
   "cell_type": "code",
   "execution_count": null,
   "metadata": {},
   "outputs": [],
   "source": []
  }
 ],
 "metadata": {
  "kernelspec": {
   "display_name": "Python 3",
   "language": "python",
   "name": "python3"
  },
  "language_info": {
   "codemirror_mode": {
    "name": "ipython",
    "version": 3
   },
   "file_extension": ".py",
   "mimetype": "text/x-python",
   "name": "python",
   "nbconvert_exporter": "python",
   "pygments_lexer": "ipython3",
   "version": "3.6.4"
  }
 },
 "nbformat": 4,
 "nbformat_minor": 2
}
